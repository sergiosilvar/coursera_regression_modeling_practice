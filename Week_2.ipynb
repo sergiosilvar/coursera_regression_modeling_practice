{
 "cells": [
  {
   "cell_type": "markdown",
   "metadata": {},
   "source": [
    "# Week 2 assignment\n",
    "\n",
    "## Introduction about the analysis\n",
    "\n",
    "A complete introduction was given in the [Week 1 assignment](https://github.com/srodriguex/coursera_regression_modeling_practice/blob/master/Week_1.md). Please, refer to this entry to be acquainted to the Gapminder dataset donated to this Coursera Regression Modeling in Practice course, the sample and procedure of data collected. \n",
    "\n",
    "\n",
    "## Requirements to reproduce this analysis\n",
    "\n",
    "In order to run this notebook on your local machine, you must have:\n",
    "\n",
    "* [Python interpreter](http://python.org) => 3.4\n",
    "* [IPython Notebook](http://ipython.org) >= 4.0 \n",
    "* [IPython Notebook extensions](https://github.com/ipython-contrib/IPython-notebook-extensions) - Used to embed Python variables in Markdown text!\n",
    "\n",
    "In order to ease the installation of Python, libraries and tools, give a chance to [Anaconda distribution](https://www.continuum.io/downloads).\n",
    "\n",
    "[Click here](./Week_2.ipynb) to access the source version of this PDF."
   ]
  },
  {
   "cell_type": "code",
   "execution_count": 1,
   "metadata": {
    "collapsed": false
   },
   "outputs": [
    {
     "name": "stdout",
     "output_type": "stream",
     "text": [
      "Populating the interactive namespace from numpy and matplotlib\n"
     ]
    }
   ],
   "source": [
    "# Imports section.\n",
    "\n",
    "# Import all Numpy, Scipy and matplolib stuff.\n",
    "%pylab inline\n",
    "\n",
    "# Silence some warnings about converting data.\n",
    "import warnings\n",
    "warnings.simplefilter('ignore', Warning)\n",
    "\n",
    "# Library to deal with dataframes like in R.\n",
    "import pandas as pd\n",
    "\n",
    "# Nice looking plotting libray for statistical analysis.\n",
    "import seaborn as sn\n",
    "\n",
    "# Package for running linear regressions using R like formulas.\n",
    "from statsmodels.formula.api import ols\n",
    "\n"
   ]
  },
  {
   "cell_type": "code",
   "execution_count": 2,
   "metadata": {
    "collapsed": false
   },
   "outputs": [],
   "source": [
    "# Read the dataset into a pandas.DataFrame object.\n",
    "df = pd.read_csv('./data/gapminder.csv')\n",
    "\n",
    "# Define the countries as the index. \n",
    "df.index = df.country\n",
    "\n",
    "# As it's the index, we can remove the column.\n",
    "del df['country']\n",
    "\n",
    "# Subset the dataframe to the desired variables.\n",
    "df = df[['lifeexpectancy','incomeperperson','alcconsumption','co2emissions', 'employrate']]\n",
    "\n",
    "# Convert all to numeric, and put NaN in missing values.\n",
    "df = df.convert_objects(convert_numeric=True)\n"
   ]
  },
  {
   "cell_type": "markdown",
   "metadata": {},
   "source": [
    "# Variables\n",
    "## Response variable\n",
    "\n",
    "\n",
    "1. Life expectancy\n",
    "> 2011 life expectancy at birth (years)\n",
    "The average number of years a newborn child would live if current\n",
    "mortality patterns were to stay the same.\n",
    "\n",
    "## Explanatory variables\n",
    "\n",
    "\n",
    "1. Income per person\n",
    "> 2010 Gross Domestic Product per capita in constant 2000 US$. The\n",
    "inflation but not the differences in the cost of living between countries\n",
    "has been taken into account.\n",
    "\n",
    "1. Consumption of alcohol\n",
    "> 2008 alcohol consumption per adult (age 15+), litres.\n",
    "Recorded and estimated average alcohol consumption, adult (15+) per\n",
    "capita consumption in litres pure alcohol.\n",
    "\n",
    "1. CO2 emissions\n",
    "> 2006 cumulative CO2 emission (metric tons), Total amount of CO2\n",
    "emission in metric tons since 1751.\n",
    "\n",
    "1. Employ rate\n",
    "> 2007 total employees age 15+ (% of population)\n",
    "Percentage of total population, age above 15, that has been employed\n",
    "during the given year.\n"
   ]
  },
  {
   "cell_type": "markdown",
   "metadata": {},
   "source": [
    "### Pearson Correlation between the variables\n",
    "\n",
    "For curiosity, let's take a look at pairwise correlation between the variables."
   ]
  },
  {
   "cell_type": "code",
   "execution_count": 3,
   "metadata": {
    "collapsed": false
   },
   "outputs": [
    {
     "data": {
      "image/png": "[encoded data removed]",
      "text/plain": [
       "<matplotlib.figure.Figure at 0x109368a90>"
      ]
     },
     "metadata": {},
     "output_type": "display_data"
    }
   ],
   "source": [
    "# Get pandas to calculate pairwise correlations.\n",
    "corr = df.corr()\n",
    "\n",
    "# Generate a mask for the upper triangle\n",
    "mask = np.zeros_like(corr, dtype=np.bool)\n",
    "mask[np.triu_indices_from(mask)] = True\n",
    "\n",
    "# A wild plot appears!\n",
    "f, ax = plt.subplots(figsize=(11*.5, 9*.5))\n",
    "\n",
    "# Generate a custom diverging colormap\n",
    "cmap = sn.diverging_palette(220, 10, as_cmap=True)\n",
    "\n",
    "# Draw the heatmap with the mask and correct aspect ratio\n",
    "sn.heatmap(corr, mask=mask, cmap=cmap, vmax=1,\n",
    "            square=True, \n",
    "            linewidths=.5, cbar_kws={\"shrink\": .5}, ax=ax, \n",
    "           annot=True, fmt='.2f' );"
   ]
  },
  {
   "cell_type": "markdown",
   "metadata": {},
   "source": [
    "It's clear this selection of explanatory variables don't give much information about the response variable, but, we'll not deal with this problem right now. The decision was made, let's go throught it."
   ]
  },
  {
   "cell_type": "markdown",
   "metadata": {},
   "source": [
    "## Descriptive analysis\n",
    "\n",
    "Pandas DataFrame has nice methods to summary the data at hand."
   ]
  },
  {
   "cell_type": "code",
   "execution_count": 4,
   "metadata": {
    "collapsed": false
   },
   "outputs": [
    {
     "name": "stdout",
     "output_type": "stream",
     "text": [
      "<class 'pandas.core.frame.DataFrame'>\n",
      "Index: 213 entries, Afghanistan to Zimbabwe\n",
      "Data columns (total 5 columns):\n",
      "lifeexpectancy     191 non-null float64\n",
      "incomeperperson    190 non-null float64\n",
      "alcconsumption     187 non-null float64\n",
      "co2emissions       200 non-null float64\n",
      "employrate         178 non-null float64\n",
      "dtypes: float64(5)\n",
      "memory usage: 10.0+ KB\n"
     ]
    }
   ],
   "source": [
    "# Concise summary about the structure of the data.\n",
    "df.info()"
   ]
  },
  {
   "cell_type": "code",
   "execution_count": 5,
   "metadata": {
    "collapsed": false
   },
   "outputs": [
    {
     "data": {
      "text/html": [
       "<div>\n",
       "<table border=\"1\" class=\"dataframe\">\n",
       "  <thead>\n",
       "    <tr style=\"text-align: right;\">\n",
       "      <th></th>\n",
       "      <th>lifeexpectancy</th>\n",
       "      <th>incomeperperson</th>\n",
       "      <th>alcconsumption</th>\n",
       "      <th>co2emissions</th>\n",
       "      <th>employrate</th>\n",
       "    </tr>\n",
       "  </thead>\n",
       "  <tbody>\n",
       "    <tr>\n",
       "      <th>count</th>\n",
       "      <td>191.000000</td>\n",
       "      <td>190.000000</td>\n",
       "      <td>187.000000</td>\n",
       "      <td>2.000000e+02</td>\n",
       "      <td>178.000000</td>\n",
       "    </tr>\n",
       "    <tr>\n",
       "      <th>mean</th>\n",
       "      <td>69.753524</td>\n",
       "      <td>8740.966076</td>\n",
       "      <td>6.689412</td>\n",
       "      <td>5.033262e+09</td>\n",
       "      <td>58.635955</td>\n",
       "    </tr>\n",
       "    <tr>\n",
       "      <th>std</th>\n",
       "      <td>9.708621</td>\n",
       "      <td>14262.809083</td>\n",
       "      <td>4.899617</td>\n",
       "      <td>2.573812e+10</td>\n",
       "      <td>10.519454</td>\n",
       "    </tr>\n",
       "    <tr>\n",
       "      <th>min</th>\n",
       "      <td>47.794000</td>\n",
       "      <td>103.775857</td>\n",
       "      <td>0.030000</td>\n",
       "      <td>1.320000e+05</td>\n",
       "      <td>32.000000</td>\n",
       "    </tr>\n",
       "    <tr>\n",
       "      <th>25%</th>\n",
       "      <td>64.447000</td>\n",
       "      <td>748.245151</td>\n",
       "      <td>2.625000</td>\n",
       "      <td>3.484617e+07</td>\n",
       "      <td>51.225000</td>\n",
       "    </tr>\n",
       "    <tr>\n",
       "      <th>50%</th>\n",
       "      <td>73.131000</td>\n",
       "      <td>2553.496056</td>\n",
       "      <td>5.920000</td>\n",
       "      <td>1.859018e+08</td>\n",
       "      <td>58.699999</td>\n",
       "    </tr>\n",
       "    <tr>\n",
       "      <th>75%</th>\n",
       "      <td>76.593000</td>\n",
       "      <td>9379.891165</td>\n",
       "      <td>9.925000</td>\n",
       "      <td>1.846084e+09</td>\n",
       "      <td>64.975000</td>\n",
       "    </tr>\n",
       "    <tr>\n",
       "      <th>max</th>\n",
       "      <td>83.394000</td>\n",
       "      <td>105147.437697</td>\n",
       "      <td>23.010000</td>\n",
       "      <td>3.342209e+11</td>\n",
       "      <td>83.199997</td>\n",
       "    </tr>\n",
       "  </tbody>\n",
       "</table>\n",
       "</div>"
      ],
      "text/plain": [
       "       lifeexpectancy  incomeperperson  alcconsumption  co2emissions  \\\n",
       "count      191.000000       190.000000      187.000000  2.000000e+02   \n",
       "mean        69.753524      8740.966076        6.689412  5.033262e+09   \n",
       "std          9.708621     14262.809083        4.899617  2.573812e+10   \n",
       "min         47.794000       103.775857        0.030000  1.320000e+05   \n",
       "25%         64.447000       748.245151        2.625000  3.484617e+07   \n",
       "50%         73.131000      2553.496056        5.920000  1.859018e+08   \n",
       "75%         76.593000      9379.891165        9.925000  1.846084e+09   \n",
       "max         83.394000    105147.437697       23.010000  3.342209e+11   \n",
       "\n",
       "       employrate  \n",
       "count  178.000000  \n",
       "mean    58.635955  \n",
       "std     10.519454  \n",
       "min     32.000000  \n",
       "25%     51.225000  \n",
       "50%     58.699999  \n",
       "75%     64.975000  \n",
       "max     83.199997  "
      ]
     },
     "execution_count": 5,
     "metadata": {},
     "output_type": "execute_result"
    }
   ],
   "source": [
    "# Overview of summary statistics.\n",
    "df.describe()"
   ]
  },
  {
   "cell_type": "markdown",
   "metadata": {
    "variables": {
     "df.shape[0]": "213"
    }
   },
   "source": [
    "We see that this dataset has a total of {{df.shape[0]}} observations, each one corresponding to a country. Unfortunately, all variable has missing values. Given that each country is sovereign and theoretically independent from the others, we can't assume any way to fill in those missing values by avering neighbor countries, neither can we set zero values to them. So, in the sake of simplicity, we'll drop all contries with any missing values."
   ]
  },
  {
   "cell_type": "code",
   "execution_count": 6,
   "metadata": {
    "collapsed": true
   },
   "outputs": [],
   "source": [
    "# Drop all rows with any missing value.\n",
    "\n",
    "# Number of rows before dropping data.\n",
    "num_before = len(df) \n",
    "\n",
    "# Drop the missing values.\n",
    "df = df.dropna()\n",
    "\n",
    "# Number of rows after dropping data.\n",
    "num_after = len(df) "
   ]
  },
  {
   "cell_type": "markdown",
   "metadata": {
    "variables": {
     "('{:.0f}%'.format((1-num_before/num_after )*100))": "-33%",
     "df.shape[0]": "160"
    }
   },
   "source": [
    "This management of the missing values lowered our set from 213 observations to {{df.shape[0]}}, nearly {{('{:.0f}%'.format((1-num_before/num_after )*100))}}. Well, this is the way with trimming missing values as a shortcut for fast analysis. Other workarounds could be executed like searching for the missing data in other sources or averaging nearby countries. We decided to just drop them. Let's take a look again in the summary after this management."
   ]
  },
  {
   "cell_type": "code",
   "execution_count": 7,
   "metadata": {
    "collapsed": false,
    "scrolled": true
   },
   "outputs": [
    {
     "name": "stdout",
     "output_type": "stream",
     "text": [
      "<class 'pandas.core.frame.DataFrame'>\n",
      "Index: 160 entries, Albania to Zimbabwe\n",
      "Data columns (total 5 columns):\n",
      "lifeexpectancy     160 non-null float64\n",
      "incomeperperson    160 non-null float64\n",
      "alcconsumption     160 non-null float64\n",
      "co2emissions       160 non-null float64\n",
      "employrate         160 non-null float64\n",
      "dtypes: float64(5)\n",
      "memory usage: 7.5+ KB\n"
     ]
    }
   ],
   "source": [
    "df.info()"
   ]
  },
  {
   "cell_type": "code",
   "execution_count": 8,
   "metadata": {
    "collapsed": false
   },
   "outputs": [
    {
     "data": {
      "text/html": [
       "<div>\n",
       "<table border=\"1\" class=\"dataframe\">\n",
       "  <thead>\n",
       "    <tr style=\"text-align: right;\">\n",
       "      <th></th>\n",
       "      <th>lifeexpectancy</th>\n",
       "      <th>incomeperperson</th>\n",
       "      <th>alcconsumption</th>\n",
       "      <th>co2emissions</th>\n",
       "      <th>employrate</th>\n",
       "    </tr>\n",
       "  </thead>\n",
       "  <tbody>\n",
       "    <tr>\n",
       "      <th>count</th>\n",
       "      <td>160.000000</td>\n",
       "      <td>160.000000</td>\n",
       "      <td>160.000000</td>\n",
       "      <td>1.600000e+02</td>\n",
       "      <td>160.000000</td>\n",
       "    </tr>\n",
       "    <tr>\n",
       "      <th>mean</th>\n",
       "      <td>69.415913</td>\n",
       "      <td>7262.857779</td>\n",
       "      <td>6.824313</td>\n",
       "      <td>6.198259e+09</td>\n",
       "      <td>59.076875</td>\n",
       "    </tr>\n",
       "    <tr>\n",
       "      <th>std</th>\n",
       "      <td>9.835586</td>\n",
       "      <td>10538.968167</td>\n",
       "      <td>5.025791</td>\n",
       "      <td>2.866868e+10</td>\n",
       "      <td>10.425623</td>\n",
       "    </tr>\n",
       "    <tr>\n",
       "      <th>min</th>\n",
       "      <td>47.794000</td>\n",
       "      <td>103.775857</td>\n",
       "      <td>0.050000</td>\n",
       "      <td>8.506667e+05</td>\n",
       "      <td>34.900002</td>\n",
       "    </tr>\n",
       "    <tr>\n",
       "      <th>25%</th>\n",
       "      <td>62.646000</td>\n",
       "      <td>605.817038</td>\n",
       "      <td>2.657500</td>\n",
       "      <td>8.062908e+07</td>\n",
       "      <td>51.375001</td>\n",
       "    </tr>\n",
       "    <tr>\n",
       "      <th>50%</th>\n",
       "      <td>73.126500</td>\n",
       "      <td>2385.184105</td>\n",
       "      <td>6.100000</td>\n",
       "      <td>2.803772e+08</td>\n",
       "      <td>58.850000</td>\n",
       "    </tr>\n",
       "    <tr>\n",
       "      <th>75%</th>\n",
       "      <td>76.569500</td>\n",
       "      <td>8497.779228</td>\n",
       "      <td>9.990000</td>\n",
       "      <td>2.410131e+09</td>\n",
       "      <td>65.000000</td>\n",
       "    </tr>\n",
       "    <tr>\n",
       "      <th>max</th>\n",
       "      <td>83.394000</td>\n",
       "      <td>52301.587179</td>\n",
       "      <td>23.010000</td>\n",
       "      <td>3.342209e+11</td>\n",
       "      <td>83.199997</td>\n",
       "    </tr>\n",
       "  </tbody>\n",
       "</table>\n",
       "</div>"
      ],
      "text/plain": [
       "       lifeexpectancy  incomeperperson  alcconsumption  co2emissions  \\\n",
       "count      160.000000       160.000000      160.000000  1.600000e+02   \n",
       "mean        69.415913      7262.857779        6.824313  6.198259e+09   \n",
       "std          9.835586     10538.968167        5.025791  2.866868e+10   \n",
       "min         47.794000       103.775857        0.050000  8.506667e+05   \n",
       "25%         62.646000       605.817038        2.657500  8.062908e+07   \n",
       "50%         73.126500      2385.184105        6.100000  2.803772e+08   \n",
       "75%         76.569500      8497.779228        9.990000  2.410131e+09   \n",
       "max         83.394000     52301.587179       23.010000  3.342209e+11   \n",
       "\n",
       "       employrate  \n",
       "count  160.000000  \n",
       "mean    59.076875  \n",
       "std     10.425623  \n",
       "min     34.900002  \n",
       "25%     51.375001  \n",
       "50%     58.850000  \n",
       "75%     65.000000  \n",
       "max     83.199997  "
      ]
     },
     "execution_count": 8,
     "metadata": {},
     "output_type": "execute_result"
    }
   ],
   "source": [
    "df.describe()"
   ]
  },
  {
   "cell_type": "markdown",
   "metadata": {},
   "source": [
    "The mean of `incomeperperson` and `co2emissions` variables are way above the other variables. This can be a problem to the linear regression, but it's not addressed in this assignment though. Hoping it will come in the next lessons. All columns have 160 valid observations, we can safely proceed to the next step."
   ]
  },
  {
   "cell_type": "markdown",
   "metadata": {},
   "source": [
    "## Overview of the variables distribution\n",
    "\n",
    "Here we plot the distribution of the selected variables to better visualize the distrbution. The `hist` method from `pandas.DataFrame` object comes in our help in plotting automatically histograms for all the variables within the dataframe object, and we just have to config the size and bins desired."
   ]
  },
  {
   "cell_type": "code",
   "execution_count": 9,
   "metadata": {
    "collapsed": false
   },
   "outputs": [
    {
     "data": {
      "image/png": "[encoded data removed]",
      "text/plain": [
       "<matplotlib.figure.Figure at 0x109368390>"
      ]
     },
     "metadata": {},
     "output_type": "display_data"
    }
   ],
   "source": [
    "df.hist(bins=20, figsize=(9,9));"
   ]
  },
  {
   "cell_type": "markdown",
   "metadata": {},
   "source": [
    "## Centering the variables\n",
    "\n",
    "The image above shows that CO2 consumption and income per person variables are not fairly distributed along x axis, they're highly left skewed. Let's manage this data subtracting their respective means, namely, centering them."
   ]
  },
  {
   "cell_type": "code",
   "execution_count": 10,
   "metadata": {
    "collapsed": false
   },
   "outputs": [
    {
     "data": {
      "text/html": [
       "<div>\n",
       "<table border=\"1\" class=\"dataframe\">\n",
       "  <thead>\n",
       "    <tr style=\"text-align: right;\">\n",
       "      <th></th>\n",
       "      <th>lifeexpectancy</th>\n",
       "      <th>incomeperperson</th>\n",
       "      <th>alcconsumption</th>\n",
       "      <th>co2emissions</th>\n",
       "      <th>employrate</th>\n",
       "    </tr>\n",
       "  </thead>\n",
       "  <tbody>\n",
       "    <tr>\n",
       "      <th>count</th>\n",
       "      <td>1.600000e+02</td>\n",
       "      <td>1.600000e+02</td>\n",
       "      <td>1.600000e+02</td>\n",
       "      <td>1.600000e+02</td>\n",
       "      <td>1.600000e+02</td>\n",
       "    </tr>\n",
       "    <tr>\n",
       "      <th>mean</th>\n",
       "      <td>-1.860734e-14</td>\n",
       "      <td>7.730705e-13</td>\n",
       "      <td>2.242651e-15</td>\n",
       "      <td>7.629395e-07</td>\n",
       "      <td>-3.996803e-16</td>\n",
       "    </tr>\n",
       "    <tr>\n",
       "      <th>std</th>\n",
       "      <td>9.835586e+00</td>\n",
       "      <td>1.053897e+04</td>\n",
       "      <td>5.025791e+00</td>\n",
       "      <td>2.866868e+10</td>\n",
       "      <td>1.042562e+01</td>\n",
       "    </tr>\n",
       "    <tr>\n",
       "      <th>min</th>\n",
       "      <td>-2.162191e+01</td>\n",
       "      <td>-7.159082e+03</td>\n",
       "      <td>-6.774312e+00</td>\n",
       "      <td>-6.197408e+09</td>\n",
       "      <td>-2.417687e+01</td>\n",
       "    </tr>\n",
       "    <tr>\n",
       "      <th>25%</th>\n",
       "      <td>-6.769913e+00</td>\n",
       "      <td>-6.657041e+03</td>\n",
       "      <td>-4.166812e+00</td>\n",
       "      <td>-6.117630e+09</td>\n",
       "      <td>-7.701874e+00</td>\n",
       "    </tr>\n",
       "    <tr>\n",
       "      <th>50%</th>\n",
       "      <td>3.710587e+00</td>\n",
       "      <td>-4.877674e+03</td>\n",
       "      <td>-7.243125e-01</td>\n",
       "      <td>-5.917882e+09</td>\n",
       "      <td>-2.268747e-01</td>\n",
       "    </tr>\n",
       "    <tr>\n",
       "      <th>75%</th>\n",
       "      <td>7.153587e+00</td>\n",
       "      <td>1.234921e+03</td>\n",
       "      <td>3.165688e+00</td>\n",
       "      <td>-3.788128e+09</td>\n",
       "      <td>5.923125e+00</td>\n",
       "    </tr>\n",
       "    <tr>\n",
       "      <th>max</th>\n",
       "      <td>1.397809e+01</td>\n",
       "      <td>4.503873e+04</td>\n",
       "      <td>1.618569e+01</td>\n",
       "      <td>3.280226e+11</td>\n",
       "      <td>2.412312e+01</td>\n",
       "    </tr>\n",
       "  </tbody>\n",
       "</table>\n",
       "</div>"
      ],
      "text/plain": [
       "       lifeexpectancy  incomeperperson  alcconsumption  co2emissions  \\\n",
       "count    1.600000e+02     1.600000e+02    1.600000e+02  1.600000e+02   \n",
       "mean    -1.860734e-14     7.730705e-13    2.242651e-15  7.629395e-07   \n",
       "std      9.835586e+00     1.053897e+04    5.025791e+00  2.866868e+10   \n",
       "min     -2.162191e+01    -7.159082e+03   -6.774312e+00 -6.197408e+09   \n",
       "25%     -6.769913e+00    -6.657041e+03   -4.166812e+00 -6.117630e+09   \n",
       "50%      3.710587e+00    -4.877674e+03   -7.243125e-01 -5.917882e+09   \n",
       "75%      7.153587e+00     1.234921e+03    3.165688e+00 -3.788128e+09   \n",
       "max      1.397809e+01     4.503873e+04    1.618569e+01  3.280226e+11   \n",
       "\n",
       "         employrate  \n",
       "count  1.600000e+02  \n",
       "mean  -3.996803e-16  \n",
       "std    1.042562e+01  \n",
       "min   -2.417687e+01  \n",
       "25%   -7.701874e+00  \n",
       "50%   -2.268747e-01  \n",
       "75%    5.923125e+00  \n",
       "max    2.412312e+01  "
      ]
     },
     "execution_count": 10,
     "metadata": {},
     "output_type": "execute_result"
    }
   ],
   "source": [
    "# Subtract the mean.\n",
    "dfmean = df - df.mean()\n",
    "\n",
    "# Summarize again.\n",
    "dfmean.describe()"
   ]
  },
  {
   "cell_type": "code",
   "execution_count": 11,
   "metadata": {
    "collapsed": false
   },
   "outputs": [
    {
     "data": {
      "image/png": "[encoded data removed]",
      "text/plain": [
       "<matplotlib.figure.Figure at 0x10935ad68>"
      ]
     },
     "metadata": {},
     "output_type": "display_data"
    }
   ],
   "source": [
    "dfmean.hist(bins=20, figsize=(9,9));"
   ]
  },
  {
   "cell_type": "markdown",
   "metadata": {},
   "source": [
    "It shouldn't be a surpise that the shape of the histograms didn't change at all, because centering a variable is just a linear transformation over $x$ axis, centenring them around the mean at  $x=0$, this don't work well for exponential distributions though."
   ]
  },
  {
   "cell_type": "markdown",
   "metadata": {},
   "source": [
    "# Linear Regression"
   ]
  },
  {
   "cell_type": "markdown",
   "metadata": {},
   "source": [
    "## First model"
   ]
  },
  {
   "cell_type": "code",
   "execution_count": 12,
   "metadata": {
    "collapsed": false
   },
   "outputs": [
    {
     "name": "stdout",
     "output_type": "stream",
     "text": [
      "                            OLS Regression Results                            \n",
      "==============================================================================\n",
      "Dep. Variable:         lifeexpectancy   R-squared:                       0.474\n",
      "Model:                            OLS   Adj. R-squared:                  0.461\n",
      "Method:                 Least Squares   F-statistic:                     34.95\n",
      "Date:                Thu, 26 Nov 2015   Prob (F-statistic):           8.73e-21\n",
      "Time:                        14:13:29   Log-Likelihood:                -540.86\n",
      "No. Observations:                 160   AIC:                             1092.\n",
      "Df Residuals:                     155   BIC:                             1107.\n",
      "Df Model:                           4                                         \n",
      "Covariance Type:            nonrobust                                         \n",
      "===================================================================================\n",
      "                      coef    std err          t      P>|t|      [95.0% Conf. Int.]\n",
      "-----------------------------------------------------------------------------------\n",
      "Intercept       -1.854e-14      0.571  -3.25e-14      1.000        -1.128     1.128\n",
      "incomeperperson     0.0005   5.95e-05      9.150      0.000         0.000     0.001\n",
      "alcconsumption      0.1819      0.120      1.517      0.131        -0.055     0.419\n",
      "co2emissions    -8.641e-12   2.11e-11     -0.410      0.682     -5.03e-11   3.3e-11\n",
      "employrate         -0.2858      0.055     -5.163      0.000        -0.395    -0.176\n",
      "==============================================================================\n",
      "Omnibus:                       21.631   Durbin-Watson:                   1.966\n",
      "Prob(Omnibus):                  0.000   Jarque-Bera (JB):               25.858\n",
      "Skew:                          -0.950   Prob(JB):                     2.43e-06\n",
      "Kurtosis:                       3.516   Cond. No.                     2.86e+10\n",
      "==============================================================================\n",
      "\n",
      "Warnings:\n",
      "[1] Standard Errors assume that the covariance matrix of the errors is correctly specified.\n",
      "[2] The condition number is large, 2.86e+10. This might indicate that there are\n",
      "strong multicollinearity or other numerical problems.\n"
     ]
    }
   ],
   "source": [
    "# Formula for the linear regression with the selected variables.\n",
    "formula='lifeexpectancy ~ incomeperperson + alcconsumption  + co2emissions + employrate'\n",
    "\n",
    "# Prepare and fit the model to the least squared error.\n",
    "model = ols(formula=formula, data=dfmean)\n",
    "res = model.fit()\n",
    "\n",
    "# Output the summary.\n",
    "print(res.summary())"
   ]
  },
  {
   "cell_type": "markdown",
   "metadata": {},
   "source": [
    "It's clear the CO2 emissions is not correlated to the life expectancy. The p-value is way above 0.05 significance level. Let's remove it from the model and run in again."
   ]
  },
  {
   "cell_type": "markdown",
   "metadata": {},
   "source": [
    "## Second model"
   ]
  },
  {
   "cell_type": "code",
   "execution_count": 13,
   "metadata": {
    "collapsed": false
   },
   "outputs": [
    {
     "name": "stdout",
     "output_type": "stream",
     "text": [
      "                            OLS Regression Results                            \n",
      "==============================================================================\n",
      "Dep. Variable:         lifeexpectancy   R-squared:                       0.474\n",
      "Model:                            OLS   Adj. R-squared:                  0.464\n",
      "Method:                 Least Squares   F-statistic:                     46.79\n",
      "Date:                Thu, 26 Nov 2015   Prob (F-statistic):           1.27e-21\n",
      "Time:                        14:13:31   Log-Likelihood:                -540.95\n",
      "No. Observations:                 160   AIC:                             1090.\n",
      "Df Residuals:                     156   BIC:                             1102.\n",
      "Df Model:                           3                                         \n",
      "Covariance Type:            nonrobust                                         \n",
      "===================================================================================\n",
      "                      coef    std err          t      P>|t|      [95.0% Conf. Int.]\n",
      "-----------------------------------------------------------------------------------\n",
      "Intercept       -1.854e-14      0.570  -3.26e-14      1.000        -1.125     1.125\n",
      "incomeperperson     0.0005   5.66e-05      9.482      0.000         0.000     0.001\n",
      "alcconsumption      0.1806      0.120      1.510      0.133        -0.056     0.417\n",
      "employrate         -0.2863      0.055     -5.185      0.000        -0.395    -0.177\n",
      "==============================================================================\n",
      "Omnibus:                       21.487   Durbin-Watson:                   1.973\n",
      "Prob(Omnibus):                  0.000   Jarque-Bera (JB):               25.669\n",
      "Skew:                          -0.950   Prob(JB):                     2.67e-06\n",
      "Kurtosis:                       3.490   Cond. No.                     1.05e+04\n",
      "==============================================================================\n",
      "\n",
      "Warnings:\n",
      "[1] Standard Errors assume that the covariance matrix of the errors is correctly specified.\n",
      "[2] The condition number is large, 1.05e+04. This might indicate that there are\n",
      "strong multicollinearity or other numerical problems.\n"
     ]
    }
   ],
   "source": [
    "formula='lifeexpectancy ~ incomeperperson + alcconsumption   + employrate'\n",
    "model = ols(formula=formula, data=dfmean)\n",
    "res = model.fit()\n",
    "print(res.summary())"
   ]
  },
  {
   "cell_type": "markdown",
   "metadata": {},
   "source": [
    "The alcohol consumption maintains its p-value beyond the significance limit, even after removing CO2 emission. We'll run the model again without this variable."
   ]
  },
  {
   "cell_type": "markdown",
   "metadata": {},
   "source": [
    "## Third model"
   ]
  },
  {
   "cell_type": "code",
   "execution_count": 14,
   "metadata": {
    "collapsed": false
   },
   "outputs": [
    {
     "name": "stdout",
     "output_type": "stream",
     "text": [
      "                            OLS Regression Results                            \n",
      "==============================================================================\n",
      "Dep. Variable:         lifeexpectancy   R-squared:                       0.466\n",
      "Model:                            OLS   Adj. R-squared:                  0.459\n",
      "Method:                 Least Squares   F-statistic:                     68.48\n",
      "Date:                Thu, 26 Nov 2015   Prob (F-statistic):           4.14e-22\n",
      "Time:                        14:13:38   Log-Likelihood:                -542.11\n",
      "No. Observations:                 160   AIC:                             1090.\n",
      "Df Residuals:                     157   BIC:                             1099.\n",
      "Df Model:                           2                                         \n",
      "Covariance Type:            nonrobust                                         \n",
      "===================================================================================\n",
      "                      coef    std err          t      P>|t|      [95.0% Conf. Int.]\n",
      "-----------------------------------------------------------------------------------\n",
      "Intercept          82.8420      3.330     24.881      0.000        76.266    89.419\n",
      "incomeperperson     0.0006   5.44e-05     10.318      0.000         0.000     0.001\n",
      "employrate         -0.2963      0.055     -5.385      0.000        -0.405    -0.188\n",
      "==============================================================================\n",
      "Omnibus:                       20.660   Durbin-Watson:                   1.940\n",
      "Prob(Omnibus):                  0.000   Jarque-Bera (JB):               24.506\n",
      "Skew:                          -0.936   Prob(JB):                     4.77e-06\n",
      "Kurtosis:                       3.417   Cond. No.                     7.44e+04\n",
      "==============================================================================\n",
      "\n",
      "Warnings:\n",
      "[1] Standard Errors assume that the covariance matrix of the errors is correctly specified.\n",
      "[2] The condition number is large, 7.44e+04. This might indicate that there are\n",
      "strong multicollinearity or other numerical problems.\n"
     ]
    }
   ],
   "source": [
    "formula='lifeexpectancy ~ incomeperperson  + employrate'\n",
    "model = ols(formula=formula, data=df)\n",
    "res = model.fit()\n",
    "print(res.summary())"
   ]
  },
  {
   "cell_type": "markdown",
   "metadata": {},
   "source": [
    "Now the remaining explanatory variables have p-value below the significance level but note the coeficcient for income per perons is too low, meaning that each unit increment in this variable reflects in 0.0006 unit in life expectancy. This is due to the exponential relationship of income vs life expectancy rather than linear, as we can see in the scatter plot below."
   ]
  },
  {
   "cell_type": "code",
   "execution_count": 15,
   "metadata": {
    "collapsed": false
   },
   "outputs": [
    {
     "data": {
      "image/png": "[encoded data removed]",
      "text/plain": [
       "<matplotlib.figure.Figure at 0x10a3e2ef0>"
      ]
     },
     "metadata": {},
     "output_type": "display_data"
    }
   ],
   "source": [
    "sn.lmplot('incomeperperson', 'lifeexpectancy', dfmean);"
   ]
  },
  {
   "cell_type": "markdown",
   "metadata": {},
   "source": [
    "To address this issue we'll transform the income per person variable into a log function. See how the scatter plot below behaves after this transformation. "
   ]
  },
  {
   "cell_type": "code",
   "execution_count": 16,
   "metadata": {
    "collapsed": false
   },
   "outputs": [
    {
     "data": {
      "image/png": "[encoded data removed]",
      "text/plain": [
       "<matplotlib.figure.Figure at 0x10a4842e8>"
      ]
     },
     "metadata": {},
     "output_type": "display_data"
    }
   ],
   "source": [
    "dfmean['log_incomeperperson'] = log(df.incomeperperson)\n",
    "sn.lmplot('log_incomeperperson', 'lifeexpectancy', dfmean);\n"
   ]
  },
  {
   "cell_type": "markdown",
   "metadata": {},
   "source": [
    "We now have a linear correlation but the interpretation over the coefficient resulted in the linear regression it's different. According to [this article](http://www.ats.ucla.edu/stat/mult_pkg/faq/general/log_transformed_regression.htm), a fixed change in say $d\\%$ in the log explanatory variable will result in a fixed changed of $\\beta_j*log((1+d/100))$, for $\\beta_j$ the respective coefficient in the new model below for the log(incomeperperson) variable."
   ]
  },
  {
   "cell_type": "markdown",
   "metadata": {},
   "source": [
    "## Fourth and final model"
   ]
  },
  {
   "cell_type": "code",
   "execution_count": 17,
   "metadata": {
    "collapsed": false
   },
   "outputs": [
    {
     "name": "stdout",
     "output_type": "stream",
     "text": [
      "                            OLS Regression Results                            \n",
      "==============================================================================\n",
      "Dep. Variable:         lifeexpectancy   R-squared:                       0.658\n",
      "Model:                            OLS   Adj. R-squared:                  0.653\n",
      "Method:                 Least Squares   F-statistic:                     150.9\n",
      "Date:                Thu, 26 Nov 2015   Prob (F-statistic):           2.73e-37\n",
      "Time:                        14:15:54   Log-Likelihood:                -506.49\n",
      "No. Observations:                 160   AIC:                             1019.\n",
      "Df Residuals:                     157   BIC:                             1028.\n",
      "Df Model:                           2                                         \n",
      "Covariance Type:            nonrobust                                         \n",
      "========================================================================================\n",
      "                           coef    std err          t      P>|t|      [95.0% Conf. Int.]\n",
      "----------------------------------------------------------------------------------------\n",
      "Intercept               38.3155      4.055      9.449      0.000        30.306    46.325\n",
      "log(incomeperperson)     4.7696      0.299     15.945      0.000         4.179     5.360\n",
      "employrate              -0.1033      0.046     -2.255      0.026        -0.194    -0.013\n",
      "==============================================================================\n",
      "Omnibus:                       52.768   Durbin-Watson:                   2.020\n",
      "Prob(Omnibus):                  0.000   Jarque-Bera (JB):              129.502\n",
      "Skew:                          -1.392   Prob(JB):                     7.57e-29\n",
      "Kurtosis:                       6.416   Cond. No.                         537.\n",
      "==============================================================================\n",
      "\n",
      "Warnings:\n",
      "[1] Standard Errors assume that the covariance matrix of the errors is correctly specified.\n"
     ]
    }
   ],
   "source": [
    "formula='lifeexpectancy ~ log(incomeperperson)  + employrate'\n",
    "model = ols(formula=formula, data=df)\n",
    "res = model.fit()\n",
    "print(res.summary())"
   ]
  },
  {
   "cell_type": "markdown",
   "metadata": {},
   "source": [
    "So, by the model above, a unit increment in `employrate` explanatory variable reflects in 0.1 unit decrement of `lifeexpectancy` response variable. There's a slightly linear relationship between those variables, but in the inverse order. For the log of income per person explanatory variable, `log(incomeperperson)`, say, a fixed 10% change in this explanatory variable changes the response variable in $4.77*log(1.10) = 0.45$ units, according to a positive correlation.\n",
    "\n",
    "By the result above, we can sate that the life expectancy is benefited by a rise in income per person. We may interpret this as the more the income, the more a person can invest in a healthier way of life and welcare, anything that prevents an early death, but the real reasons demand a proper investigation beyond the scope of this exercise.\n",
    "\n",
    "An unexpected result is the negative correlation between employ rate and life expectancy. Our initial assumption was that an increase in employ rate would increase the life expectancy as well, but this dataset and method chosen says the contrary. This also demands a detailed investigation beyond the scope of this exercise, but we can speculate that would be the case a longer life is benefited by a not so longer labor life if you're able to save an amount of money, or welfare state policies for retired people to maintain a sustainable living health.\n",
    "\n",
    "The end."
   ]
  }
 ],
 "metadata": {
  "kernelspec": {
   "display_name": "Python 3",
   "language": "python",
   "name": "python3"
  },
  "language_info": {
   "codemirror_mode": {
    "name": "ipython",
    "version": 3
   },
   "file_extension": ".py",
   "mimetype": "text/x-python",
   "name": "python",
   "nbconvert_exporter": "python",
   "pygments_lexer": "ipython3",
   "version": "3.4.3"
  }
 },
 "nbformat": 4,
 "nbformat_minor": 0
}
