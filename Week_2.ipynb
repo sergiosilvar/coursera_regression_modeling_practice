{
 "cells": [
  {
   "cell_type": "markdown",
   "metadata": {},
   "source": [
    "# Week 2 assignment\n",
    "\n",
    "## Introduction about the analysis\n",
    "\n",
    "A complete introduction was given in the [Week 1 assignment](https://github.com/srodriguex/coursera_regression_modeling_practice/blob/master/Week_1.md). Please, refer to this entry to be acquainted to the Gapminder dataset donated to this Coursera Regression Modeling in Practice course, the sample and procedure of data collected. \n",
    "\n",
    "\n",
    "## Requirements to reproduce this analysis\n",
    "\n",
    "This is a PDF version of an IPython Notebook. [Click here](https://github.com/srodriguex/coursera_regression_modeling_practice/blob/master/Week_2.ipynb) to access the source version to reproduce this analysis.\n",
    "\n",
    "In order to run this notebook on your local machine, you must have:\n",
    "\n",
    "* [Python interpreter](http://python.org) => 3.4\n",
    "* [IPython Notebook](http://ipython.org) >= 4.0 \n",
    "\n",
    "In order to ease the installation of Python, libraries and tools, give a chance to [Anaconda distribution](https://www.continuum.io/downloads).\n",
    "\n"
   ]
  },
  {
   "cell_type": "markdown",
   "metadata": {},
   "source": [
    "# Variables\n",
    "\n",
    "This exercise requires only a simple linear regression.In other words, this means taking a single reponse variable, and a single explanatory variable.\n",
    "\n",
    "I could chose at random any explanatory variable I've selected from all variables available in the Gapminder Dataset from Week 1 assignment, but lets keep calm and choose rationaly the best variable we have. For best variable I mean the variable which correlation with the response variable is the most. For this, I'll print the correlation matrix to help me find it."
   ]
  },
  {
   "cell_type": "code",
   "execution_count": 1,
   "metadata": {
    "collapsed": false
   },
   "outputs": [
    {
     "name": "stdout",
     "output_type": "stream",
     "text": [
      "Populating the interactive namespace from numpy and matplotlib\n"
     ]
    }
   ],
   "source": [
    "# Imports section.\n",
    "\n",
    "# Import all Numpy, Scipy and matplolib stuff.\n",
    "%pylab inline\n",
    "\n",
    "# Silence some warnings about converting data.\n",
    "import warnings\n",
    "warnings.simplefilter('ignore', Warning)\n",
    "\n",
    "# Library to deal with dataframes like in R.\n",
    "import pandas as pd\n",
    "\n",
    "# Nice looking plotting libray for statistical analysis.\n",
    "import seaborn as sn\n",
    "\n",
    "# Package for running linear regressions using R like formulas.\n",
    "from statsmodels.formula.api import ols\n",
    "\n"
   ]
  },
  {
   "cell_type": "code",
   "execution_count": 2,
   "metadata": {
    "collapsed": false
   },
   "outputs": [],
   "source": [
    "# Read the dataset into a pandas.DataFrame object.\n",
    "df = pd.read_csv('./data/gapminder.csv')\n",
    "\n",
    "# Define the countries as the index. \n",
    "df.index = df.country\n",
    "\n",
    "# As it's the index, we can remove the column.\n",
    "del df['country']\n",
    "\n",
    "# Subset the dataframe to the desired variables.\n",
    "df = df[['lifeexpectancy','incomeperperson','alcconsumption','co2emissions', 'employrate']]\n",
    "\n",
    "# Convert all to numeric, and put NaN in missing values.\n",
    "df = df.convert_objects(convert_numeric=True)\n"
   ]
  },
  {
   "cell_type": "markdown",
   "metadata": {},
   "source": [
    "### Pearson Correlation between the variables\n",
    "\n",
    "For curiosity, let's take a look at pairwise correlation between the variables."
   ]
  },
  {
   "cell_type": "code",
   "execution_count": 3,
   "metadata": {
    "collapsed": false
   },
   "outputs": [
    {
     "data": {
      "image/png": "[encoded data removed]",
      "text/plain": [
       "<matplotlib.figure.Figure at 0x108ba8a58>"
      ]
     },
     "metadata": {},
     "output_type": "display_data"
    }
   ],
   "source": [
    "# Get pandas to calculate pairwise correlations.\n",
    "corr = df.corr()\n",
    "\n",
    "# Generate a mask for the upper triangle\n",
    "mask = np.zeros_like(corr, dtype=np.bool)\n",
    "mask[np.triu_indices_from(mask)] = True\n",
    "\n",
    "# A wild plot appears!\n",
    "f, ax = plt.subplots(figsize=(11*.5, 9*.5))\n",
    "\n",
    "# Generate a custom diverging colormap\n",
    "cmap = sn.diverging_palette(220, 10, as_cmap=True)\n",
    "\n",
    "# Draw the heatmap with the mask and correct aspect ratio\n",
    "sn.heatmap(corr, mask=mask, cmap=cmap, vmax=1,\n",
    "            square=True, \n",
    "            linewidths=.5, cbar_kws={\"shrink\": .5}, ax=ax, \n",
    "           annot=True, fmt='.2f' );"
   ]
  },
  {
   "cell_type": "markdown",
   "metadata": {},
   "source": [
    "From the matrix correlation plot above it's clear that `incomeperperson` is the best variable available from the subselection I've already made in the Week 1 assignment.\n",
    "\n",
    "So, in resume, my variables chosen to this simple linear regression are:\n",
    "\n",
    "* Response variable: **Life expectancy**\n",
    "> 2011 life expectancy at birth (years)\n",
    "The average number of years a newborn child would live if current\n",
    "mortality patterns were to stay the same.\n",
    "\n",
    "* Explanatory variable: **Income per person**\n",
    "> 2010 Gross Domestic Product per capita in constant 2000 US$. The\n",
    "inflation but not the differences in the cost of living between countries\n",
    "has been taken into account."
   ]
  },
  {
   "cell_type": "markdown",
   "metadata": {},
   "source": [
    "## Descriptive analysis\n",
    "\n",
    "Pandas DataFrame has nice methods to summary the data at hand."
   ]
  },
  {
   "cell_type": "code",
   "execution_count": 4,
   "metadata": {
    "collapsed": false
   },
   "outputs": [
    {
     "name": "stdout",
     "output_type": "stream",
     "text": [
      "<class 'pandas.core.frame.DataFrame'>\n",
      "Index: 213 entries, Afghanistan to Zimbabwe\n",
      "Data columns (total 2 columns):\n",
      "lifeexpectancy     191 non-null float64\n",
      "incomeperperson    190 non-null float64\n",
      "dtypes: float64(2)\n",
      "memory usage: 5.0+ KB\n"
     ]
    }
   ],
   "source": [
    "# Subselecting only the variables chosen.\n",
    "df = df[['lifeexpectancy', 'incomeperperson']]\n",
    "\n",
    "# Concise summary about the structure of the data.\n",
    "df.info()"
   ]
  },
  {
   "cell_type": "code",
   "execution_count": 5,
   "metadata": {
    "collapsed": false
   },
   "outputs": [
    {
     "data": {
      "text/html": [
       "<div>\n",
       "<table border=\"1\" class=\"dataframe\">\n",
       "  <thead>\n",
       "    <tr style=\"text-align: right;\">\n",
       "      <th></th>\n",
       "      <th>lifeexpectancy</th>\n",
       "      <th>incomeperperson</th>\n",
       "    </tr>\n",
       "  </thead>\n",
       "  <tbody>\n",
       "    <tr>\n",
       "      <th>count</th>\n",
       "      <td>191.000000</td>\n",
       "      <td>190.000000</td>\n",
       "    </tr>\n",
       "    <tr>\n",
       "      <th>mean</th>\n",
       "      <td>69.753524</td>\n",
       "      <td>8740.966076</td>\n",
       "    </tr>\n",
       "    <tr>\n",
       "      <th>std</th>\n",
       "      <td>9.708621</td>\n",
       "      <td>14262.809083</td>\n",
       "    </tr>\n",
       "    <tr>\n",
       "      <th>min</th>\n",
       "      <td>47.794000</td>\n",
       "      <td>103.775857</td>\n",
       "    </tr>\n",
       "    <tr>\n",
       "      <th>25%</th>\n",
       "      <td>64.447000</td>\n",
       "      <td>748.245151</td>\n",
       "    </tr>\n",
       "    <tr>\n",
       "      <th>50%</th>\n",
       "      <td>73.131000</td>\n",
       "      <td>2553.496056</td>\n",
       "    </tr>\n",
       "    <tr>\n",
       "      <th>75%</th>\n",
       "      <td>76.593000</td>\n",
       "      <td>9379.891165</td>\n",
       "    </tr>\n",
       "    <tr>\n",
       "      <th>max</th>\n",
       "      <td>83.394000</td>\n",
       "      <td>105147.437697</td>\n",
       "    </tr>\n",
       "  </tbody>\n",
       "</table>\n",
       "</div>"
      ],
      "text/plain": [
       "       lifeexpectancy  incomeperperson\n",
       "count      191.000000       190.000000\n",
       "mean        69.753524      8740.966076\n",
       "std          9.708621     14262.809083\n",
       "min         47.794000       103.775857\n",
       "25%         64.447000       748.245151\n",
       "50%         73.131000      2553.496056\n",
       "75%         76.593000      9379.891165\n",
       "max         83.394000    105147.437697"
      ]
     },
     "execution_count": 5,
     "metadata": {},
     "output_type": "execute_result"
    }
   ],
   "source": [
    "# Overview of summary statistics.\n",
    "df.describe()"
   ]
  },
  {
   "cell_type": "markdown",
   "metadata": {},
   "source": [
    "We see that this dataset has a total of 213 observations, each one corresponding to a country. Unfortunately, both reponse and explanatory variables has missing values. Given that each country is sovereign and theoretically independent from the others, we can't assume any way to fill in those missing values by averaging neighbor countries, neither can we set zero values to them. So, in the sake of simplicity, we'll just drop all contries with any missing values."
   ]
  },
  {
   "cell_type": "code",
   "execution_count": 6,
   "metadata": {
    "collapsed": true
   },
   "outputs": [],
   "source": [
    "# Drop all rows with any missing value.\n",
    "\n",
    "# Number of rows before dropping data.\n",
    "num_before = len(df) \n",
    "\n",
    "# Drop the missing values.\n",
    "df = df.dropna()\n",
    "\n",
    "# Number of rows after dropping data.\n",
    "num_after = len(df) "
   ]
  },
  {
   "cell_type": "code",
   "execution_count": 7,
   "metadata": {
    "collapsed": false,
    "scrolled": true
   },
   "outputs": [
    {
     "name": "stdout",
     "output_type": "stream",
     "text": [
      "<class 'pandas.core.frame.DataFrame'>\n",
      "Index: 176 entries, Albania to Zimbabwe\n",
      "Data columns (total 2 columns):\n",
      "lifeexpectancy     176 non-null float64\n",
      "incomeperperson    176 non-null float64\n",
      "dtypes: float64(2)\n",
      "memory usage: 4.1+ KB\n"
     ]
    }
   ],
   "source": [
    "df.info()"
   ]
  },
  {
   "cell_type": "code",
   "execution_count": 8,
   "metadata": {
    "collapsed": false,
    "scrolled": true
   },
   "outputs": [
    {
     "data": {
      "text/html": [
       "<div>\n",
       "<table border=\"1\" class=\"dataframe\">\n",
       "  <thead>\n",
       "    <tr style=\"text-align: right;\">\n",
       "      <th></th>\n",
       "      <th>lifeexpectancy</th>\n",
       "      <th>incomeperperson</th>\n",
       "    </tr>\n",
       "  </thead>\n",
       "  <tbody>\n",
       "    <tr>\n",
       "      <th>count</th>\n",
       "      <td>176.000000</td>\n",
       "      <td>176.000000</td>\n",
       "    </tr>\n",
       "    <tr>\n",
       "      <th>mean</th>\n",
       "      <td>69.654733</td>\n",
       "      <td>7327.444414</td>\n",
       "    </tr>\n",
       "    <tr>\n",
       "      <th>std</th>\n",
       "      <td>9.729521</td>\n",
       "      <td>10567.304022</td>\n",
       "    </tr>\n",
       "    <tr>\n",
       "      <th>min</th>\n",
       "      <td>47.794000</td>\n",
       "      <td>103.775857</td>\n",
       "    </tr>\n",
       "    <tr>\n",
       "      <th>25%</th>\n",
       "      <td>63.041500</td>\n",
       "      <td>702.366463</td>\n",
       "    </tr>\n",
       "    <tr>\n",
       "      <th>50%</th>\n",
       "      <td>73.126500</td>\n",
       "      <td>2385.184105</td>\n",
       "    </tr>\n",
       "    <tr>\n",
       "      <th>75%</th>\n",
       "      <td>76.569500</td>\n",
       "      <td>8497.779228</td>\n",
       "    </tr>\n",
       "    <tr>\n",
       "      <th>max</th>\n",
       "      <td>83.394000</td>\n",
       "      <td>52301.587179</td>\n",
       "    </tr>\n",
       "  </tbody>\n",
       "</table>\n",
       "</div>"
      ],
      "text/plain": [
       "       lifeexpectancy  incomeperperson\n",
       "count      176.000000       176.000000\n",
       "mean        69.654733      7327.444414\n",
       "std          9.729521     10567.304022\n",
       "min         47.794000       103.775857\n",
       "25%         63.041500       702.366463\n",
       "50%         73.126500      2385.184105\n",
       "75%         76.569500      8497.779228\n",
       "max         83.394000     52301.587179"
      ]
     },
     "execution_count": 8,
     "metadata": {},
     "output_type": "execute_result"
    }
   ],
   "source": [
    "df.describe()"
   ]
  },
  {
   "cell_type": "code",
   "execution_count": 14,
   "metadata": {
    "collapsed": false
   },
   "outputs": [
    {
     "name": "stdout",
     "output_type": "stream",
     "text": [
      "It had 213 rows, now it has 176 rows. -37 rows were dropped due to missgin data.\n"
     ]
    }
   ],
   "source": [
    "print('It had {} rows, now it has {} rows. {} rows were dropped due to missgin data.'.format(\n",
    "        num_before, num_after, num_after-num_before))"
   ]
  },
  {
   "cell_type": "markdown",
   "metadata": {},
   "source": [
    "This management of the missing values lowered our set from 213 observations to 176, around 83%, not a big deal. "
   ]
  },
  {
   "cell_type": "markdown",
   "metadata": {},
   "source": [
    "## Frequency distribution as histograms\n",
    "\n",
    "These variables assume a continuous range, so I think histogramas a  better to visualize the distribution rather than a raw table full of numbers as would be the frequency tables. The `hist` method from `pandas.DataFrame` object comes in our help in plotting automatically histograms for all the variables within the dataframe object, and we just have to config the size and bins desired."
   ]
  },
  {
   "cell_type": "code",
   "execution_count": 27,
   "metadata": {
    "collapsed": false
   },
   "outputs": [
    {
     "data": {
      "image/png": "[encoded data removed]",
      "text/plain": [
       "<matplotlib.figure.Figure at 0x108d084e0>"
      ]
     },
     "metadata": {},
     "output_type": "display_data"
    }
   ],
   "source": [
    "df.hist(bins=20, figsize=(9,4));"
   ]
  },
  {
   "cell_type": "markdown",
   "metadata": {},
   "source": [
    "## Centering the variables\n",
    "\n",
    "The image above shows that income per person variable is not fairly distributed along x axis, it's highly left skewed. Let's manage this data subtracting their respective means, namely, centering them."
   ]
  },
  {
   "cell_type": "code",
   "execution_count": 28,
   "metadata": {
    "collapsed": false
   },
   "outputs": [
    {
     "data": {
      "text/html": [
       "<div>\n",
       "<table border=\"1\" class=\"dataframe\">\n",
       "  <thead>\n",
       "    <tr style=\"text-align: right;\">\n",
       "      <th></th>\n",
       "      <th>lifeexpectancy</th>\n",
       "      <th>incomeperperson</th>\n",
       "    </tr>\n",
       "  </thead>\n",
       "  <tbody>\n",
       "    <tr>\n",
       "      <th>count</th>\n",
       "      <td>1.760000e+02</td>\n",
       "      <td>1.760000e+02</td>\n",
       "    </tr>\n",
       "    <tr>\n",
       "      <th>mean</th>\n",
       "      <td>3.108624e-15</td>\n",
       "      <td>-9.508354e-13</td>\n",
       "    </tr>\n",
       "    <tr>\n",
       "      <th>std</th>\n",
       "      <td>9.729521e+00</td>\n",
       "      <td>1.056730e+04</td>\n",
       "    </tr>\n",
       "    <tr>\n",
       "      <th>min</th>\n",
       "      <td>-2.186073e+01</td>\n",
       "      <td>-7.223669e+03</td>\n",
       "    </tr>\n",
       "    <tr>\n",
       "      <th>25%</th>\n",
       "      <td>-6.613233e+00</td>\n",
       "      <td>-6.625078e+03</td>\n",
       "    </tr>\n",
       "    <tr>\n",
       "      <th>50%</th>\n",
       "      <td>3.471767e+00</td>\n",
       "      <td>-4.942260e+03</td>\n",
       "    </tr>\n",
       "    <tr>\n",
       "      <th>75%</th>\n",
       "      <td>6.914767e+00</td>\n",
       "      <td>1.170335e+03</td>\n",
       "    </tr>\n",
       "    <tr>\n",
       "      <th>max</th>\n",
       "      <td>1.373927e+01</td>\n",
       "      <td>4.497414e+04</td>\n",
       "    </tr>\n",
       "  </tbody>\n",
       "</table>\n",
       "</div>"
      ],
      "text/plain": [
       "       lifeexpectancy  incomeperperson\n",
       "count    1.760000e+02     1.760000e+02\n",
       "mean     3.108624e-15    -9.508354e-13\n",
       "std      9.729521e+00     1.056730e+04\n",
       "min     -2.186073e+01    -7.223669e+03\n",
       "25%     -6.613233e+00    -6.625078e+03\n",
       "50%      3.471767e+00    -4.942260e+03\n",
       "75%      6.914767e+00     1.170335e+03\n",
       "max      1.373927e+01     4.497414e+04"
      ]
     },
     "execution_count": 28,
     "metadata": {},
     "output_type": "execute_result"
    }
   ],
   "source": [
    "# Subtract the mean.\n",
    "dfmean = df - df.mean()\n",
    "\n",
    "# Summarize again.\n",
    "dfmean.describe()"
   ]
  },
  {
   "cell_type": "code",
   "execution_count": 29,
   "metadata": {
    "collapsed": false
   },
   "outputs": [
    {
     "data": {
      "image/png": "[encoded data removed]",
      "text/plain": [
       "<matplotlib.figure.Figure at 0x1090559b0>"
      ]
     },
     "metadata": {},
     "output_type": "display_data"
    }
   ],
   "source": [
    "dfmean.hist(bins=20, figsize=(9,4));"
   ]
  },
  {
   "cell_type": "markdown",
   "metadata": {},
   "source": [
    "It shouldn't be a surpise that the shape of the histograms didn't change at all, because centering a variable is just a linear transformation over $x$ axis, centenring them around the mean at  $x=0$, this don't work well for exponential distributions though."
   ]
  },
  {
   "cell_type": "markdown",
   "metadata": {},
   "source": [
    "# Linear Regression"
   ]
  },
  {
   "cell_type": "markdown",
   "metadata": {},
   "source": [
    "In this section well run the simple linear model for the two variables at hand."
   ]
  },
  {
   "cell_type": "markdown",
   "metadata": {},
   "source": [
    "## First model"
   ]
  },
  {
   "cell_type": "code",
   "execution_count": 24,
   "metadata": {
    "collapsed": false,
    "scrolled": false
   },
   "outputs": [
    {
     "data": {
      "text/html": [
       "<table class=\"simpletable\">\n",
       "<caption>OLS Regression Results</caption>\n",
       "<tr>\n",
       "  <th>Dep. Variable:</th>     <td>lifeexpectancy</td>  <th>  R-squared:         </th> <td>   0.362</td>\n",
       "</tr>\n",
       "<tr>\n",
       "  <th>Model:</th>                   <td>OLS</td>       <th>  Adj. R-squared:    </th> <td>   0.358</td>\n",
       "</tr>\n",
       "<tr>\n",
       "  <th>Method:</th>             <td>Least Squares</td>  <th>  F-statistic:       </th> <td>   98.65</td>\n",
       "</tr>\n",
       "<tr>\n",
       "  <th>Date:</th>             <td>Thu, 26 Nov 2015</td> <th>  Prob (F-statistic):</th> <td>1.07e-18</td>\n",
       "</tr>\n",
       "<tr>\n",
       "  <th>Time:</th>                 <td>23:03:36</td>     <th>  Log-Likelihood:    </th> <td> -610.14</td>\n",
       "</tr>\n",
       "<tr>\n",
       "  <th>No. Observations:</th>      <td>   176</td>      <th>  AIC:               </th> <td>   1224.</td>\n",
       "</tr>\n",
       "<tr>\n",
       "  <th>Df Residuals:</th>          <td>   174</td>      <th>  BIC:               </th> <td>   1231.</td>\n",
       "</tr>\n",
       "<tr>\n",
       "  <th>Df Model:</th>              <td>     1</td>      <th>                     </th>     <td> </td>   \n",
       "</tr>\n",
       "<tr>\n",
       "  <th>Covariance Type:</th>      <td>nonrobust</td>    <th>                     </th>     <td> </td>   \n",
       "</tr>\n",
       "</table>\n",
       "<table class=\"simpletable\">\n",
       "<tr>\n",
       "         <td></td>            <th>coef</th>     <th>std err</th>      <th>t</th>      <th>P>|t|</th> <th>[95.0% Conf. Int.]</th> \n",
       "</tr>\n",
       "<tr>\n",
       "  <th>Intercept</th>       <td>  3.22e-15</td> <td>    0.588</td> <td> 5.48e-15</td> <td> 1.000</td> <td>   -1.160     1.160</td>\n",
       "</tr>\n",
       "<tr>\n",
       "  <th>incomeperperson</th> <td>    0.0006</td> <td> 5.58e-05</td> <td>    9.932</td> <td> 0.000</td> <td>    0.000     0.001</td>\n",
       "</tr>\n",
       "</table>\n",
       "<table class=\"simpletable\">\n",
       "<tr>\n",
       "  <th>Omnibus:</th>       <td>19.382</td> <th>  Durbin-Watson:     </th> <td>   1.948</td>\n",
       "</tr>\n",
       "<tr>\n",
       "  <th>Prob(Omnibus):</th> <td> 0.000</td> <th>  Jarque-Bera (JB):  </th> <td>  23.222</td>\n",
       "</tr>\n",
       "<tr>\n",
       "  <th>Skew:</th>          <td>-0.877</td> <th>  Prob(JB):          </th> <td>9.06e-06</td>\n",
       "</tr>\n",
       "<tr>\n",
       "  <th>Kurtosis:</th>      <td> 2.698</td> <th>  Cond. No.          </th> <td>1.05e+04</td>\n",
       "</tr>\n",
       "</table>"
      ],
      "text/plain": [
       "<class 'statsmodels.iolib.summary.Summary'>\n",
       "\"\"\"\n",
       "                            OLS Regression Results                            \n",
       "==============================================================================\n",
       "Dep. Variable:         lifeexpectancy   R-squared:                       0.362\n",
       "Model:                            OLS   Adj. R-squared:                  0.358\n",
       "Method:                 Least Squares   F-statistic:                     98.65\n",
       "Date:                Thu, 26 Nov 2015   Prob (F-statistic):           1.07e-18\n",
       "Time:                        23:03:36   Log-Likelihood:                -610.14\n",
       "No. Observations:                 176   AIC:                             1224.\n",
       "Df Residuals:                     174   BIC:                             1231.\n",
       "Df Model:                           1                                         \n",
       "Covariance Type:            nonrobust                                         \n",
       "===================================================================================\n",
       "                      coef    std err          t      P>|t|      [95.0% Conf. Int.]\n",
       "-----------------------------------------------------------------------------------\n",
       "Intercept         3.22e-15      0.588   5.48e-15      1.000        -1.160     1.160\n",
       "incomeperperson     0.0006   5.58e-05      9.932      0.000         0.000     0.001\n",
       "==============================================================================\n",
       "Omnibus:                       19.382   Durbin-Watson:                   1.948\n",
       "Prob(Omnibus):                  0.000   Jarque-Bera (JB):               23.222\n",
       "Skew:                          -0.877   Prob(JB):                     9.06e-06\n",
       "Kurtosis:                       2.698   Cond. No.                     1.05e+04\n",
       "==============================================================================\n",
       "\n",
       "Warnings:\n",
       "[1] Standard Errors assume that the covariance matrix of the errors is correctly specified.\n",
       "[2] The condition number is large, 1.05e+04. This might indicate that there are\n",
       "strong multicollinearity or other numerical problems.\n",
       "\"\"\""
      ]
     },
     "execution_count": 24,
     "metadata": {},
     "output_type": "execute_result"
    }
   ],
   "source": [
    "# Formula for the linear regression with the selected variables.\n",
    "formula='lifeexpectancy ~ incomeperperson'\n",
    "\n",
    "# Prepare and fit the model to the least squared error.\n",
    "model = ols(formula=formula, data=dfmean)\n",
    "res = model.fit()\n",
    "\n",
    "# Output the summary.\n",
    "res.summary()"
   ]
  },
  {
   "cell_type": "markdown",
   "metadata": {},
   "source": [
    "The `incomeperperson` has p-value inside our significacne Now the remaining explanatory variables have p-value of 0.000 at 3 decimals precision below the significance level of 0.05, so, we can reject the nulll hypothesis $H_0$ that this coefficient is equals zero and the the alternative $H_a$ that is different from zero. But note that this coeficcient for income per person is too low, meaning that each unit increment in this variable reflects in 0.0006 unit in life expectancy. This is due to the exponential relationship of income vs life expectancy rather than linear, as we can see in the scatter plot below."
   ]
  },
  {
   "cell_type": "code",
   "execution_count": 25,
   "metadata": {
    "collapsed": false
   },
   "outputs": [
    {
     "data": {
      "image/png": "[encoded data removed]",
      "text/plain": [
       "<matplotlib.figure.Figure at 0x109b05d30>"
      ]
     },
     "metadata": {},
     "output_type": "display_data"
    }
   ],
   "source": [
    "sn.lmplot('incomeperperson', 'lifeexpectancy', dfmean);"
   ]
  },
  {
   "cell_type": "markdown",
   "metadata": {},
   "source": [
    "To address this issue we'll transform the income per person variable into a log function. See how the scatter plot below behaves after this transformation. "
   ]
  },
  {
   "cell_type": "code",
   "execution_count": 26,
   "metadata": {
    "collapsed": false
   },
   "outputs": [
    {
     "data": {
      "image/png": "[encoded data removed]",
      "text/plain": [
       "<matplotlib.figure.Figure at 0x109756198>"
      ]
     },
     "metadata": {},
     "output_type": "display_data"
    }
   ],
   "source": [
    "dfmean['log_incomeperperson'] = log(df.incomeperperson)\n",
    "sn.lmplot('log_incomeperperson', 'lifeexpectancy', dfmean);\n"
   ]
  },
  {
   "cell_type": "markdown",
   "metadata": {},
   "source": [
    "We now have a linear correlation but the interpretation over this log transformation over the variable must be adjusted. According to [this article](http://www.ats.ucla.edu/stat/mult_pkg/faq/general/log_transformed_regression.htm), a fixed change in say $d\\%$ in the log explanatory variable will result in a fixed changed of $\\beta_1*log((1+d/100))$, for $\\beta_1$ the respective coefficient in the new model below for the log(incomeperperson) variable."
   ]
  },
  {
   "cell_type": "markdown",
   "metadata": {},
   "source": [
    "## Second and final model"
   ]
  },
  {
   "cell_type": "code",
   "execution_count": 28,
   "metadata": {
    "collapsed": false
   },
   "outputs": [
    {
     "data": {
      "text/html": [
       "<table class=\"simpletable\">\n",
       "<caption>OLS Regression Results</caption>\n",
       "<tr>\n",
       "  <th>Dep. Variable:</th>     <td>lifeexpectancy</td>  <th>  R-squared:         </th> <td>   0.645</td>\n",
       "</tr>\n",
       "<tr>\n",
       "  <th>Model:</th>                   <td>OLS</td>       <th>  Adj. R-squared:    </th> <td>   0.643</td>\n",
       "</tr>\n",
       "<tr>\n",
       "  <th>Method:</th>             <td>Least Squares</td>  <th>  F-statistic:       </th> <td>   315.5</td>\n",
       "</tr>\n",
       "<tr>\n",
       "  <th>Date:</th>             <td>Thu, 26 Nov 2015</td> <th>  Prob (F-statistic):</th> <td>6.20e-41</td>\n",
       "</tr>\n",
       "<tr>\n",
       "  <th>Time:</th>                 <td>23:09:56</td>     <th>  Log-Likelihood:    </th> <td> -558.64</td>\n",
       "</tr>\n",
       "<tr>\n",
       "  <th>No. Observations:</th>      <td>   176</td>      <th>  AIC:               </th> <td>   1121.</td>\n",
       "</tr>\n",
       "<tr>\n",
       "  <th>Df Residuals:</th>          <td>   174</td>      <th>  BIC:               </th> <td>   1128.</td>\n",
       "</tr>\n",
       "<tr>\n",
       "  <th>Df Model:</th>              <td>     1</td>      <th>                     </th>     <td> </td>   \n",
       "</tr>\n",
       "<tr>\n",
       "  <th>Covariance Type:</th>      <td>nonrobust</td>    <th>                     </th>     <td> </td>   \n",
       "</tr>\n",
       "</table>\n",
       "<table class=\"simpletable\">\n",
       "<tr>\n",
       "            <td></td>              <th>coef</th>     <th>std err</th>      <th>t</th>      <th>P>|t|</th> <th>[95.0% Conf. Int.]</th> \n",
       "</tr>\n",
       "<tr>\n",
       "  <th>Intercept</th>            <td>   30.6379</td> <td>    2.240</td> <td>   13.678</td> <td> 0.000</td> <td>   26.217    35.059</td>\n",
       "</tr>\n",
       "<tr>\n",
       "  <th>log(incomeperperson)</th> <td>    4.9773</td> <td>    0.280</td> <td>   17.763</td> <td> 0.000</td> <td>    4.424     5.530</td>\n",
       "</tr>\n",
       "</table>\n",
       "<table class=\"simpletable\">\n",
       "<tr>\n",
       "  <th>Omnibus:</th>       <td>45.848</td> <th>  Durbin-Watson:     </th> <td>   2.070</td>\n",
       "</tr>\n",
       "<tr>\n",
       "  <th>Prob(Omnibus):</th> <td> 0.000</td> <th>  Jarque-Bera (JB):  </th> <td>  91.175</td>\n",
       "</tr>\n",
       "<tr>\n",
       "  <th>Skew:</th>          <td>-1.215</td> <th>  Prob(JB):          </th> <td>1.59e-20</td>\n",
       "</tr>\n",
       "<tr>\n",
       "  <th>Kurtosis:</th>      <td> 5.556</td> <th>  Cond. No.          </th> <td>    41.4</td>\n",
       "</tr>\n",
       "</table>"
      ],
      "text/plain": [
       "<class 'statsmodels.iolib.summary.Summary'>\n",
       "\"\"\"\n",
       "                            OLS Regression Results                            \n",
       "==============================================================================\n",
       "Dep. Variable:         lifeexpectancy   R-squared:                       0.645\n",
       "Model:                            OLS   Adj. R-squared:                  0.643\n",
       "Method:                 Least Squares   F-statistic:                     315.5\n",
       "Date:                Thu, 26 Nov 2015   Prob (F-statistic):           6.20e-41\n",
       "Time:                        23:09:56   Log-Likelihood:                -558.64\n",
       "No. Observations:                 176   AIC:                             1121.\n",
       "Df Residuals:                     174   BIC:                             1128.\n",
       "Df Model:                           1                                         \n",
       "Covariance Type:            nonrobust                                         \n",
       "========================================================================================\n",
       "                           coef    std err          t      P>|t|      [95.0% Conf. Int.]\n",
       "----------------------------------------------------------------------------------------\n",
       "Intercept               30.6379      2.240     13.678      0.000        26.217    35.059\n",
       "log(incomeperperson)     4.9773      0.280     17.763      0.000         4.424     5.530\n",
       "==============================================================================\n",
       "Omnibus:                       45.848   Durbin-Watson:                   2.070\n",
       "Prob(Omnibus):                  0.000   Jarque-Bera (JB):               91.175\n",
       "Skew:                          -1.215   Prob(JB):                     1.59e-20\n",
       "Kurtosis:                       5.556   Cond. No.                         41.4\n",
       "==============================================================================\n",
       "\n",
       "Warnings:\n",
       "[1] Standard Errors assume that the covariance matrix of the errors is correctly specified.\n",
       "\"\"\""
      ]
     },
     "execution_count": 28,
     "metadata": {},
     "output_type": "execute_result"
    }
   ],
   "source": [
    "formula='lifeexpectancy ~ log(incomeperperson)'\n",
    "model = ols(formula=formula, data=df)\n",
    "res = model.fit()\n",
    "res.summary()"
   ]
  },
  {
   "cell_type": "markdown",
   "metadata": {},
   "source": [
    "So, by the model above, for the log of income per person explanatory variable, `log(incomeperperson)`, say, a fixed 10% change in this explanatory variable changes the response variable in $4.98*log(1.10) = 0.47$ units, according to a positive correlation.\n",
    "\n",
    "By the result above, we can sate that the life expectancy is benefited by a rise in income per person. We may interpret this as that the more the income, the more a person can invest in a healthier way of life and welcare, anything that prevents an early death, but the real reasons demand a proper investigation beyond the scope of this exercise.\n",
    "\n",
    "\n",
    "The end."
   ]
  }
 ],
 "metadata": {
  "kernelspec": {
   "display_name": "Python 3",
   "language": "python",
   "name": "python3"
  },
  "language_info": {
   "codemirror_mode": {
    "name": "ipython",
    "version": 3
   },
   "file_extension": ".py",
   "mimetype": "text/x-python",
   "name": "python",
   "nbconvert_exporter": "python",
   "pygments_lexer": "ipython3",
   "version": "3.4.3"
  }
 },
 "nbformat": 4,
 "nbformat_minor": 0
}
