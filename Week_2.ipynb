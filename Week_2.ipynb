{
 "cells": [
  {
   "cell_type": "markdown",
   "metadata": {},
   "source": [
    "In order to run this notebook on your local machine, you must have:\n",
    "\n",
    "* [IPython Notebook](http://ipython.org) >= 4.0 \n",
    "* [IPython Notebook extensions](https://github.com/ipython-contrib/IPython-notebook-extensions) - Used to embed Python variables in Markdown text!"
   ]
  },
  {
   "cell_type": "code",
   "execution_count": 5,
   "metadata": {
    "collapsed": false
   },
   "outputs": [
    {
     "name": "stdout",
     "output_type": "stream",
     "text": [
      "Populating the interactive namespace from numpy and matplotlib\n"
     ]
    }
   ],
   "source": [
    "%pylab inline\n",
    "import warnings\n",
    "warnings.simplefilter('ignore', Warning)\n",
    "import pandas as pd\n",
    "#style.use('ggplot')\n",
    "import seaborn as sn \n",
    "\n"
   ]
  },
  {
   "cell_type": "code",
   "execution_count": 6,
   "metadata": {
    "collapsed": false
   },
   "outputs": [],
   "source": [
    "df = pd.read_csv('./data/gapminder.csv')\n",
    "df.index = df.country\n",
    "del df['country']\n",
    "df = df[['lifeexpectancy','incomeperperson','alcconsumption','co2emissions', 'employrate']]\n",
    "df = df.convert_objects(convert_numeric=True)\n",
    "corr = df.corr()"
   ]
  },
  {
   "cell_type": "code",
   "execution_count": 7,
   "metadata": {
    "collapsed": false
   },
   "outputs": [
    {
     "data": {
      "image/png": "[encoded data removed]",
      "text/plain": [
       "<matplotlib.figure.Figure at 0x1090a2a58>"
      ]
     },
     "metadata": {},
     "output_type": "display_data"
    }
   ],
   "source": [
    "# Generate a mask for the upper triangle\n",
    "mask = np.zeros_like(corr, dtype=np.bool)\n",
    "mask[np.triu_indices_from(mask)] = True\n",
    "\n",
    "f, ax = plt.subplots(figsize=(11*.5, 9*.5))\n",
    "\n",
    "# Generate a custom diverging colormap\n",
    "cmap = sn.diverging_palette(220, 10, as_cmap=True)\n",
    "\n",
    "# Draw the heatmap with the mask and correct aspect ratio\n",
    "sn.heatmap(corr, mask=mask, cmap=cmap, vmax=1,\n",
    "            square=True, \n",
    "            linewidths=.5, cbar_kws={\"shrink\": .5}, ax=ax, \n",
    "           annot=True, fmt='.2f' );"
   ]
  },
  {
   "cell_type": "markdown",
   "metadata": {},
   "source": [
    "# Variables\n",
    "## Response variable\n",
    "\n",
    "\n",
    "1. Life expectancy\n",
    "> 2011 life expectancy at birth (years)\n",
    "The average number of years a newborn child would live if current\n",
    "mortality patterns were to stay the same.\n",
    "\n",
    "## Explanatory variables\n",
    "\n",
    "\n",
    "1. Income per person\n",
    "> 2010 Gross Domestic Product per capita in constant 2000 US$. The\n",
    "inflation but not the differences in the cost of living between countries\n",
    "has been taken into account.\n",
    "\n",
    "1. Consumption of alcohol\n",
    "> 2008 alcohol consumption per adult (age 15+), litres.\n",
    "Recorded and estimated average alcohol consumption, adult (15+) per\n",
    "capita consumption in litres pure alcohol.\n",
    "\n",
    "1. CO2 emissions\n",
    "> 2006 cumulative CO2 emission (metric tons), Total amount of CO2\n",
    "emission in metric tons since 1751.\n",
    "\n",
    "1. Employ rate\n",
    "> 2007 total employees age 15+ (% of population)\n",
    "Percentage of total population, age above 15, that has been employed\n",
    "during the given year.\n"
   ]
  },
  {
   "cell_type": "markdown",
   "metadata": {},
   "source": [
    "## Descriptive analysis"
   ]
  },
  {
   "cell_type": "code",
   "execution_count": 8,
   "metadata": {
    "collapsed": false
   },
   "outputs": [
    {
     "name": "stdout",
     "output_type": "stream",
     "text": [
      "<class 'pandas.core.frame.DataFrame'>\n",
      "Index: 213 entries, Afghanistan to Zimbabwe\n",
      "Data columns (total 5 columns):\n",
      "lifeexpectancy     191 non-null float64\n",
      "incomeperperson    190 non-null float64\n",
      "alcconsumption     187 non-null float64\n",
      "co2emissions       200 non-null float64\n",
      "employrate         178 non-null float64\n",
      "dtypes: float64(5)\n",
      "memory usage: 10.0+ KB\n"
     ]
    }
   ],
   "source": [
    "df.info()"
   ]
  },
  {
   "cell_type": "code",
   "execution_count": 9,
   "metadata": {
    "collapsed": false
   },
   "outputs": [
    {
     "data": {
      "text/html": [
       "<div>\n",
       "<table border=\"1\" class=\"dataframe\">\n",
       "  <thead>\n",
       "    <tr style=\"text-align: right;\">\n",
       "      <th></th>\n",
       "      <th>lifeexpectancy</th>\n",
       "      <th>incomeperperson</th>\n",
       "      <th>alcconsumption</th>\n",
       "      <th>co2emissions</th>\n",
       "      <th>employrate</th>\n",
       "    </tr>\n",
       "  </thead>\n",
       "  <tbody>\n",
       "    <tr>\n",
       "      <th>count</th>\n",
       "      <td>191.000000</td>\n",
       "      <td>190.000000</td>\n",
       "      <td>187.000000</td>\n",
       "      <td>2.000000e+02</td>\n",
       "      <td>178.000000</td>\n",
       "    </tr>\n",
       "    <tr>\n",
       "      <th>mean</th>\n",
       "      <td>69.753524</td>\n",
       "      <td>8740.966076</td>\n",
       "      <td>6.689412</td>\n",
       "      <td>5.033262e+09</td>\n",
       "      <td>58.635955</td>\n",
       "    </tr>\n",
       "    <tr>\n",
       "      <th>std</th>\n",
       "      <td>9.708621</td>\n",
       "      <td>14262.809083</td>\n",
       "      <td>4.899617</td>\n",
       "      <td>2.573812e+10</td>\n",
       "      <td>10.519454</td>\n",
       "    </tr>\n",
       "    <tr>\n",
       "      <th>min</th>\n",
       "      <td>47.794000</td>\n",
       "      <td>103.775857</td>\n",
       "      <td>0.030000</td>\n",
       "      <td>1.320000e+05</td>\n",
       "      <td>32.000000</td>\n",
       "    </tr>\n",
       "    <tr>\n",
       "      <th>25%</th>\n",
       "      <td>64.447000</td>\n",
       "      <td>748.245151</td>\n",
       "      <td>2.625000</td>\n",
       "      <td>3.484617e+07</td>\n",
       "      <td>51.225000</td>\n",
       "    </tr>\n",
       "    <tr>\n",
       "      <th>50%</th>\n",
       "      <td>73.131000</td>\n",
       "      <td>2553.496056</td>\n",
       "      <td>5.920000</td>\n",
       "      <td>1.859018e+08</td>\n",
       "      <td>58.699999</td>\n",
       "    </tr>\n",
       "    <tr>\n",
       "      <th>75%</th>\n",
       "      <td>76.593000</td>\n",
       "      <td>9379.891165</td>\n",
       "      <td>9.925000</td>\n",
       "      <td>1.846084e+09</td>\n",
       "      <td>64.975000</td>\n",
       "    </tr>\n",
       "    <tr>\n",
       "      <th>max</th>\n",
       "      <td>83.394000</td>\n",
       "      <td>105147.437697</td>\n",
       "      <td>23.010000</td>\n",
       "      <td>3.342209e+11</td>\n",
       "      <td>83.199997</td>\n",
       "    </tr>\n",
       "  </tbody>\n",
       "</table>\n",
       "</div>"
      ],
      "text/plain": [
       "       lifeexpectancy  incomeperperson  alcconsumption  co2emissions  \\\n",
       "count      191.000000       190.000000      187.000000  2.000000e+02   \n",
       "mean        69.753524      8740.966076        6.689412  5.033262e+09   \n",
       "std          9.708621     14262.809083        4.899617  2.573812e+10   \n",
       "min         47.794000       103.775857        0.030000  1.320000e+05   \n",
       "25%         64.447000       748.245151        2.625000  3.484617e+07   \n",
       "50%         73.131000      2553.496056        5.920000  1.859018e+08   \n",
       "75%         76.593000      9379.891165        9.925000  1.846084e+09   \n",
       "max         83.394000    105147.437697       23.010000  3.342209e+11   \n",
       "\n",
       "       employrate  \n",
       "count  178.000000  \n",
       "mean    58.635955  \n",
       "std     10.519454  \n",
       "min     32.000000  \n",
       "25%     51.225000  \n",
       "50%     58.699999  \n",
       "75%     64.975000  \n",
       "max     83.199997  "
      ]
     },
     "execution_count": 9,
     "metadata": {},
     "output_type": "execute_result"
    }
   ],
   "source": [
    "df.describe()"
   ]
  },
  {
   "cell_type": "markdown",
   "metadata": {
    "variables": {
     "df.shape[0]": "213"
    }
   },
   "source": [
    "We see that this dataset has a total of {{df.shape[0]}} observations, each one corresponding to a country. Unfortunately, all variable has missing values. Given that each country is sovereign and theoretically independent from the others, we can't assume any way to fill in those missing values by avering neighbor countries, neither can we set zero values to them. So, in the sake of simplicity, we'll drop all contries with any missing values."
   ]
  },
  {
   "cell_type": "code",
   "execution_count": 38,
   "metadata": {
    "collapsed": true
   },
   "outputs": [],
   "source": [
    "df = df.dropna()"
   ]
  },
  {
   "cell_type": "code",
   "execution_count": 39,
   "metadata": {
    "collapsed": false
   },
   "outputs": [
    {
     "name": "stdout",
     "output_type": "stream",
     "text": [
      "<class 'pandas.core.frame.DataFrame'>\n",
      "Index: 160 entries, Albania to Zimbabwe\n",
      "Data columns (total 5 columns):\n",
      "lifeexpectancy     160 non-null float64\n",
      "incomeperperson    160 non-null float64\n",
      "alcconsumption     160 non-null float64\n",
      "co2emissions       160 non-null float64\n",
      "employrate         160 non-null float64\n",
      "dtypes: float64(5)\n",
      "memory usage: 7.5+ KB\n"
     ]
    }
   ],
   "source": [
    "df.info()"
   ]
  },
  {
   "cell_type": "markdown",
   "metadata": {
    "variables": {
     "('{:.0f}%'.format((1-df.shape[0]/160 )*100))": "-33%",
     "df.shape[0]": "213"
    }
   },
   "source": [
    "This management of the missing values lowered our set from 213 observations to {{df.shape[0]}}, nearly {{('{:.0f}%'.format((1-df.shape[0]/160 )*100))}}. Well, this is the way with trimming missing values."
   ]
  },
  {
   "cell_type": "code",
   "execution_count": 10,
   "metadata": {
    "collapsed": false
   },
   "outputs": [
    {
     "data": {
      "text/html": [
       "<div>\n",
       "<table border=\"1\" class=\"dataframe\">\n",
       "  <thead>\n",
       "    <tr style=\"text-align: right;\">\n",
       "      <th></th>\n",
       "      <th>lifeexpectancy</th>\n",
       "      <th>incomeperperson</th>\n",
       "      <th>alcconsumption</th>\n",
       "      <th>co2emissions</th>\n",
       "      <th>employrate</th>\n",
       "    </tr>\n",
       "  </thead>\n",
       "  <tbody>\n",
       "    <tr>\n",
       "      <th>count</th>\n",
       "      <td>191.000000</td>\n",
       "      <td>190.000000</td>\n",
       "      <td>187.000000</td>\n",
       "      <td>2.000000e+02</td>\n",
       "      <td>178.000000</td>\n",
       "    </tr>\n",
       "    <tr>\n",
       "      <th>mean</th>\n",
       "      <td>69.753524</td>\n",
       "      <td>8740.966076</td>\n",
       "      <td>6.689412</td>\n",
       "      <td>5.033262e+09</td>\n",
       "      <td>58.635955</td>\n",
       "    </tr>\n",
       "    <tr>\n",
       "      <th>std</th>\n",
       "      <td>9.708621</td>\n",
       "      <td>14262.809083</td>\n",
       "      <td>4.899617</td>\n",
       "      <td>2.573812e+10</td>\n",
       "      <td>10.519454</td>\n",
       "    </tr>\n",
       "    <tr>\n",
       "      <th>min</th>\n",
       "      <td>47.794000</td>\n",
       "      <td>103.775857</td>\n",
       "      <td>0.030000</td>\n",
       "      <td>1.320000e+05</td>\n",
       "      <td>32.000000</td>\n",
       "    </tr>\n",
       "    <tr>\n",
       "      <th>25%</th>\n",
       "      <td>64.447000</td>\n",
       "      <td>748.245151</td>\n",
       "      <td>2.625000</td>\n",
       "      <td>3.484617e+07</td>\n",
       "      <td>51.225000</td>\n",
       "    </tr>\n",
       "    <tr>\n",
       "      <th>50%</th>\n",
       "      <td>73.131000</td>\n",
       "      <td>2553.496056</td>\n",
       "      <td>5.920000</td>\n",
       "      <td>1.859018e+08</td>\n",
       "      <td>58.699999</td>\n",
       "    </tr>\n",
       "    <tr>\n",
       "      <th>75%</th>\n",
       "      <td>76.593000</td>\n",
       "      <td>9379.891165</td>\n",
       "      <td>9.925000</td>\n",
       "      <td>1.846084e+09</td>\n",
       "      <td>64.975000</td>\n",
       "    </tr>\n",
       "    <tr>\n",
       "      <th>max</th>\n",
       "      <td>83.394000</td>\n",
       "      <td>105147.437697</td>\n",
       "      <td>23.010000</td>\n",
       "      <td>3.342209e+11</td>\n",
       "      <td>83.199997</td>\n",
       "    </tr>\n",
       "  </tbody>\n",
       "</table>\n",
       "</div>"
      ],
      "text/plain": [
       "       lifeexpectancy  incomeperperson  alcconsumption  co2emissions  \\\n",
       "count      191.000000       190.000000      187.000000  2.000000e+02   \n",
       "mean        69.753524      8740.966076        6.689412  5.033262e+09   \n",
       "std          9.708621     14262.809083        4.899617  2.573812e+10   \n",
       "min         47.794000       103.775857        0.030000  1.320000e+05   \n",
       "25%         64.447000       748.245151        2.625000  3.484617e+07   \n",
       "50%         73.131000      2553.496056        5.920000  1.859018e+08   \n",
       "75%         76.593000      9379.891165        9.925000  1.846084e+09   \n",
       "max         83.394000    105147.437697       23.010000  3.342209e+11   \n",
       "\n",
       "       employrate  \n",
       "count  178.000000  \n",
       "mean    58.635955  \n",
       "std     10.519454  \n",
       "min     32.000000  \n",
       "25%     51.225000  \n",
       "50%     58.699999  \n",
       "75%     64.975000  \n",
       "max     83.199997  "
      ]
     },
     "execution_count": 10,
     "metadata": {},
     "output_type": "execute_result"
    }
   ],
   "source": [
    "df.describe()"
   ]
  },
  {
   "cell_type": "markdown",
   "metadata": {},
   "source": [
    "## Overview of the variables distribution\n",
    "\n",
    "Let's take a loo, at the distribution of the selected variables. The `hist` method from `pandas.DataFrame` object comes in our help in plotting automatically histograms for all the variables within the dataframe object, and we just need do config the size and bins desired."
   ]
  },
  {
   "cell_type": "code",
   "execution_count": 14,
   "metadata": {
    "collapsed": false
   },
   "outputs": [
    {
     "data": {
      "image/png": "[encoded data removed]",
      "text/plain": [
       "<matplotlib.figure.Figure at 0x10a748550>"
      ]
     },
     "metadata": {},
     "output_type": "display_data"
    }
   ],
   "source": [
    "df.hist(bins=20, figsize=(9,9));"
   ]
  },
  {
   "cell_type": "markdown",
   "metadata": {},
   "source": [
    "## Centering the variables\n",
    "\n",
    "The image above shows that CO2 consumption and income per person variables are not fairly distributed along x axis, they're highly left skewed. Let's manage this data subtracting their respective means, namely, centering them."
   ]
  },
  {
   "cell_type": "code",
   "execution_count": 25,
   "metadata": {
    "collapsed": false
   },
   "outputs": [
    {
     "data": {
      "text/html": [
       "<div>\n",
       "<table border=\"1\" class=\"dataframe\">\n",
       "  <thead>\n",
       "    <tr style=\"text-align: right;\">\n",
       "      <th></th>\n",
       "      <th>lifeexpectancy</th>\n",
       "      <th>incomeperperson</th>\n",
       "      <th>alcconsumption</th>\n",
       "      <th>co2emissions</th>\n",
       "      <th>employrate</th>\n",
       "    </tr>\n",
       "  </thead>\n",
       "  <tbody>\n",
       "    <tr>\n",
       "      <th>count</th>\n",
       "      <td>1.910000e+02</td>\n",
       "      <td>1.900000e+02</td>\n",
       "      <td>1.870000e+02</td>\n",
       "      <td>2.000000e+02</td>\n",
       "      <td>1.780000e+02</td>\n",
       "    </tr>\n",
       "    <tr>\n",
       "      <th>mean</th>\n",
       "      <td>-6.063794e-15</td>\n",
       "      <td>-3.829451e-12</td>\n",
       "      <td>1.899847e-17</td>\n",
       "      <td>2.288818e-07</td>\n",
       "      <td>-2.474924e-15</td>\n",
       "    </tr>\n",
       "    <tr>\n",
       "      <th>std</th>\n",
       "      <td>9.708621e+00</td>\n",
       "      <td>1.426281e+04</td>\n",
       "      <td>4.899617e+00</td>\n",
       "      <td>2.573812e+10</td>\n",
       "      <td>1.051945e+01</td>\n",
       "    </tr>\n",
       "    <tr>\n",
       "      <th>min</th>\n",
       "      <td>-2.195952e+01</td>\n",
       "      <td>-8.637190e+03</td>\n",
       "      <td>-6.659412e+00</td>\n",
       "      <td>-5.033130e+09</td>\n",
       "      <td>-2.663596e+01</td>\n",
       "    </tr>\n",
       "    <tr>\n",
       "      <th>25%</th>\n",
       "      <td>-5.306524e+00</td>\n",
       "      <td>-7.992721e+03</td>\n",
       "      <td>-4.064412e+00</td>\n",
       "      <td>-4.998415e+09</td>\n",
       "      <td>-7.410955e+00</td>\n",
       "    </tr>\n",
       "    <tr>\n",
       "      <th>50%</th>\n",
       "      <td>3.377476e+00</td>\n",
       "      <td>-6.187470e+03</td>\n",
       "      <td>-7.694118e-01</td>\n",
       "      <td>-4.847360e+09</td>\n",
       "      <td>6.404377e-02</td>\n",
       "    </tr>\n",
       "    <tr>\n",
       "      <th>75%</th>\n",
       "      <td>6.839476e+00</td>\n",
       "      <td>6.389251e+02</td>\n",
       "      <td>3.235588e+00</td>\n",
       "      <td>-3.187177e+09</td>\n",
       "      <td>6.339045e+00</td>\n",
       "    </tr>\n",
       "    <tr>\n",
       "      <th>max</th>\n",
       "      <td>1.364048e+01</td>\n",
       "      <td>9.640647e+04</td>\n",
       "      <td>1.632059e+01</td>\n",
       "      <td>3.291876e+11</td>\n",
       "      <td>2.456404e+01</td>\n",
       "    </tr>\n",
       "  </tbody>\n",
       "</table>\n",
       "</div>"
      ],
      "text/plain": [
       "       lifeexpectancy  incomeperperson  alcconsumption  co2emissions  \\\n",
       "count    1.910000e+02     1.900000e+02    1.870000e+02  2.000000e+02   \n",
       "mean    -6.063794e-15    -3.829451e-12    1.899847e-17  2.288818e-07   \n",
       "std      9.708621e+00     1.426281e+04    4.899617e+00  2.573812e+10   \n",
       "min     -2.195952e+01    -8.637190e+03   -6.659412e+00 -5.033130e+09   \n",
       "25%     -5.306524e+00    -7.992721e+03   -4.064412e+00 -4.998415e+09   \n",
       "50%      3.377476e+00    -6.187470e+03   -7.694118e-01 -4.847360e+09   \n",
       "75%      6.839476e+00     6.389251e+02    3.235588e+00 -3.187177e+09   \n",
       "max      1.364048e+01     9.640647e+04    1.632059e+01  3.291876e+11   \n",
       "\n",
       "         employrate  \n",
       "count  1.780000e+02  \n",
       "mean  -2.474924e-15  \n",
       "std    1.051945e+01  \n",
       "min   -2.663596e+01  \n",
       "25%   -7.410955e+00  \n",
       "50%    6.404377e-02  \n",
       "75%    6.339045e+00  \n",
       "max    2.456404e+01  "
      ]
     },
     "execution_count": 25,
     "metadata": {},
     "output_type": "execute_result"
    }
   ],
   "source": [
    "dfmean = df - df.mean()\n",
    "\n",
    "dfmean.describe()"
   ]
  },
  {
   "cell_type": "code",
   "execution_count": 26,
   "metadata": {
    "collapsed": false
   },
   "outputs": [
    {
     "data": {
      "image/png": "[encoded data removed]",
      "text/plain": [
       "<matplotlib.figure.Figure at 0x10a701278>"
      ]
     },
     "metadata": {},
     "output_type": "display_data"
    }
   ],
   "source": [
    "dfmean.hist(bins=20, figsize=(9,9));"
   ]
  },
  {
   "cell_type": "markdown",
   "metadata": {},
   "source": [
    "It shouldn't be a surpise that the shape of the histograms didn't change at all, because centering a variable is just a linear transformation, centenring them around axis $x=0$, this don't work well for exponential distributinos though."
   ]
  },
  {
   "cell_type": "code",
   "execution_count": null,
   "metadata": {
    "collapsed": true
   },
   "outputs": [],
   "source": []
  }
 ],
 "metadata": {
  "kernelspec": {
   "display_name": "Python 3",
   "language": "python",
   "name": "python3"
  },
  "language_info": {
   "codemirror_mode": {
    "name": "ipython",
    "version": 3
   },
   "file_extension": ".py",
   "mimetype": "text/x-python",
   "name": "python",
   "nbconvert_exporter": "python",
   "pygments_lexer": "ipython3",
   "version": "3.4.3"
  }
 },
 "nbformat": 4,
 "nbformat_minor": 0
}
